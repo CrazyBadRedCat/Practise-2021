{
 "cells": [
  {
   "cell_type": "markdown",
   "metadata": {},
   "source": [
    "## 2. Получение предсказаний на тестовой выборке и создание файла для kaggle."
   ]
  },
  {
   "cell_type": "markdown",
   "metadata": {},
   "source": [
    "Считаем данные из скачанной открытой гугл-папки"
   ]
  },
  {
   "cell_type": "code",
   "execution_count": 1,
   "metadata": {
    "scrolled": true
   },
   "outputs": [],
   "source": [
    "import os\n",
    "import pandas as pd\n",
    "path = r'C:\\Users\\Arslan\\Documents\\ФКН ПМИ\\1 курс\\Практика\\test\\kaggle_data\\kaggle_data'\n",
    "data = {}\n",
    "\n",
    "Data = []\n",
    "Target = []\n",
    "\n",
    "i=0\n",
    "for dir_entry in os.listdir(path):\n",
    "    dir_entry_path = os.path.join(path, dir_entry)\n",
    "    if os.path.isfile(dir_entry_path):\n",
    "        i+=1\n",
    "        with open(dir_entry_path, 'r') as my_file:\n",
    "            df = pd.read_csv(my_file, delimiter=';')\n",
    "            if df.shape[1] == 5:\n",
    "                Data.append(df)\n",
    "                Target.append(dir_entry_path.split(\"\\\\\")[-1])\n",
    "\n",
    "for dir_entry in os.listdir(path):\n",
    "    dir_entry_path = os.path.join(path, dir_entry)\n",
    "    if os.path.isfile(dir_entry_path):\n",
    "        i+=1\n",
    "        with open(dir_entry_path, 'r') as my_file:\n",
    "            df = pd.read_csv(my_file, delimiter=',')\n",
    "            if df.shape[1] == 5:\n",
    "                Data.append(df)\n",
    "                Target.append(dir_entry_path.split(\"\\\\\")[-1])"
   ]
  },
  {
   "cell_type": "code",
   "execution_count": 2,
   "metadata": {},
   "outputs": [],
   "source": [
    "def rotation_matrix_from_vectors(vec1, vec2):\n",
    "    \"\"\" Find the rotation matrix that aligns vec1 to vec2\n",
    "    :param vec1: A 3d \"source\" vector\n",
    "    :param vec2: A 3d \"destination\" vector\n",
    "    :return mat: A transform matrix (3x3) which when applied to vec1, aligns it with vec2.\n",
    "    \"\"\"\n",
    "    a, b = (vec1 / numpy.linalg.norm(vec1)).reshape(3), (vec2 / numpy.linalg.norm(vec2)).reshape(3)\n",
    "    v = numpy.cross(a, b)\n",
    "    if any(v): #if not all zeros then \n",
    "        c = numpy.dot(a, b)\n",
    "        s = numpy.linalg.norm(v)\n",
    "        kmat = numpy.array([[0, -v[2], v[1]], [v[2], 0, -v[0]], [-v[1], v[0], 0]])\n",
    "        return numpy.eye(3) + kmat + kmat.dot(kmat) * ((1 - c) / (s ** 2))\n",
    "\n",
    "    else:\n",
    "        return numpy.eye(3) #cross of all zeros only occurs on identical directions\n",
    "\n",
    "def rotate(X, Y, Z, Mat):\n",
    "    new_x = []\n",
    "    new_y = []\n",
    "    new_z = []\n",
    "    \n",
    "    for elem in zip(X,Y,Z):\n",
    "        res = Mat.dot(elem)\n",
    "        new_x.append(res[0])\n",
    "        new_y.append(res[1])\n",
    "        new_z.append(res[2])\n",
    "        \n",
    "    return new_x, new_y, new_z\n",
    "\n",
    "def integrate(lst):\n",
    "    res = []\n",
    "    s = 0\n",
    "    for elem in lst:\n",
    "        s += elem\n",
    "        res.append(s)\n",
    "    return res"
   ]
  },
  {
   "cell_type": "markdown",
   "metadata": {},
   "source": [
    "Переведём типы движений в числа"
   ]
  },
  {
   "cell_type": "code",
   "execution_count": 3,
   "metadata": {},
   "outputs": [],
   "source": [
    "classes = {'тояни' : 0, 'месте' : 0, 'одьб' : 1, 'аг' : 1, 'ег' : 2, 'елоси' : 3, 'естн' : 4, 'одъ' : 4, \n",
    "           'втомо' : 5, 'ашин' : 5, 'метро' : 6, 'лектро' : 7, 'амок' : 8}\n",
    "\n",
    "answers = {'стояние' : 0, 'ходьба' : 1, 'бег' : 2, 'велосипед' : 3, 'лестница' : 4, \n",
    "           'автомобиль' : 5, 'метро' : 6, 'электросамокат' : 7, 'самокат' : 8}\n",
    "\n",
    "# стояние, ходьба, велосипед, лестница, бег, подъем, подъём, автомобиль, электросамокат, машина, метро"
   ]
  },
  {
   "cell_type": "code",
   "execution_count": 4,
   "metadata": {},
   "outputs": [],
   "source": [
    "def get_action(name):\n",
    "    for act in classes:\n",
    "        if name.lower().find(act) != -1:\n",
    "            return classes[act]\n",
    "    return -1"
   ]
  },
  {
   "cell_type": "markdown",
   "metadata": {},
   "source": [
    "Обработаем данные и извлечём признаки для создания модели"
   ]
  },
  {
   "cell_type": "code",
   "execution_count": 5,
   "metadata": {
    "scrolled": true
   },
   "outputs": [
    {
     "name": "stdout",
     "output_type": "stream",
     "text": [
      "Populating the interactive namespace from numpy and matplotlib\n"
     ]
    },
    {
     "name": "stderr",
     "output_type": "stream",
     "text": [
      "C:\\Users\\Arslan\\anaconda3\\lib\\site-packages\\IPython\\core\\magics\\pylab.py:159: UserWarning: pylab import has clobbered these variables: ['plt']\n",
      "`%matplotlib` prevents importing * from pylab and numpy\n",
      "  warn(\"pylab import has clobbered these variables: %s\"  % clobbered +\n"
     ]
    },
    {
     "name": "stdout",
     "output_type": "stream",
     "text": [
      "track_11.csv\n",
      "track_119.csv\n"
     ]
    },
    {
     "name": "stderr",
     "output_type": "stream",
     "text": [
      "<ipython-input-5-c388907ee8ab>:46: RuntimeWarning: Mean of empty slice.\n",
      "  mx = df.iloc[st:end]['gFx'].values.mean()\n",
      "C:\\Users\\Arslan\\anaconda3\\lib\\site-packages\\numpy\\core\\_methods.py:170: RuntimeWarning: invalid value encountered in double_scalars\n",
      "  ret = ret.dtype.type(ret / rcount)\n",
      "<ipython-input-5-c388907ee8ab>:47: RuntimeWarning: Mean of empty slice.\n",
      "  my = df.iloc[st:end]['gFy'].values.mean()\n",
      "<ipython-input-5-c388907ee8ab>:48: RuntimeWarning: Mean of empty slice.\n",
      "  mz = df.iloc[st:end]['gFz'].values.mean()\n"
     ]
    },
    {
     "name": "stdout",
     "output_type": "stream",
     "text": [
      "track_133.csv\n",
      "track_138.csv\n",
      "track_140.csv\n",
      "track_23.csv\n",
      "track_44.csv\n",
      "track_45.csv\n",
      "track_50.csv\n",
      "track_6.csv\n",
      "track_68.csv\n",
      "track_73.csv\n"
     ]
    }
   ],
   "source": [
    "import pandas as pd\n",
    "from matplotlib import pylab as plt\n",
    "%pylab inline\n",
    "\n",
    "Action = np.zeros(len(Data))\n",
    "Ampl = np.zeros(len(Data))\n",
    "FFT = np.zeros(len(Data))\n",
    "Dist = np.zeros(len(Data))\n",
    "FFT_z = np.zeros(len(Data))\n",
    "good_len = 0\n",
    "\n",
    "\n",
    "def process_data(index, df, comma=True, cut=True, name = \"\", a=-1, b=-1):\n",
    "    \n",
    "    global good_len, Action, Ampl, FFT, Dist, FFT_z\n",
    "    good_data = True\n",
    "    \n",
    "    if comma is True:\n",
    "        df = df.applymap(lambda x: str(x).replace(',','.'))\n",
    "        try:\n",
    "            df['gFx'] = df['gFx'].astype(float)\n",
    "            df['gFy'] = df['gFy'].astype(float)\n",
    "            df['gFz'] = df['gFz'].astype(float)\n",
    "            df['time'] = df['time'].astype(float)\n",
    "        except KeyError:\n",
    "            return -1\n",
    "    \n",
    "    Fs = round(df.shape[0] / (df.time[df.shape[0] - 1] - df.time[0]))\n",
    "    \n",
    "    if a == -1:\n",
    "        st = 5 * Fs\n",
    "    else:\n",
    "        st = a\n",
    "            \n",
    "    if b == -1:\n",
    "        end = -5 * Fs\n",
    "    else:\n",
    "        end = b\n",
    "        \n",
    "    if cut == False:\n",
    "        st = 0\n",
    "        end = -1\n",
    "\n",
    "#вычисляем средний вектор ускорения по треку\n",
    "    try :\n",
    "        mx = df.iloc[st:end]['gFx'].values.mean()\n",
    "        my = df.iloc[st:end]['gFy'].values.mean()\n",
    "        mz = df.iloc[st:end]['gFz'].values.mean()\n",
    "    except :\n",
    "        good_data = False\n",
    "#находим матрицу поворота этого вектора к вектору (0,0,1)\n",
    "\n",
    "    Vec = [mx,my,mz]\n",
    "    Point = [0, 0, 1]\n",
    "    mat = rotation_matrix_from_vectors(Vec, Point)\n",
    "    \n",
    "#каждую точку трека поворачиваем на эту матрицу\n",
    "\n",
    "    new_x, new_y, new_z = rotate(df.iloc[st:end]['gFx'].values, df.iloc[st:end]['gFy'].values, df.iloc[st:end]['gFz'].values, mat)\n",
    "\n",
    "#проверяем, что новые средние равны примерно (0,0,1). Если это не так, значит, телефон часто поворачивался при движении, и нам не поможет это преобразование\n",
    "\n",
    "    eps = 0.3\n",
    "    if len(new_x) == 0 :\n",
    "        good_data = False\n",
    "    if len(new_y) == 0 :\n",
    "        good_data = False\n",
    "    if len(new_z) == 0 :\n",
    "        good_data = False\n",
    "    if good_data and ((abs(mean(new_x)) > eps) or (abs(mean(new_y)) > eps) or (abs(mean(new_z) - 1) > eps)) :\n",
    "        good_data = False\n",
    "\n",
    "#делим на 250*250 (это нужно было еще при интегрировании)\n",
    "    new_x = [elem / (Fs * Fs) for elem in new_x]\n",
    "    new_y = [elem / (Fs * Fs) for elem in new_y]\n",
    "#из ускорения по z вычитаем 1 (g), чтобы убрать влияние силы тяжести и оставить только ускорение по z\n",
    "    new_z = [(elem - 1) / (Fs * Fs) for elem in new_z]\n",
    "    \n",
    "#дважды интегрируем ускорение, чтобы получить перемещение вдоль каждой оси\n",
    "    int_x = integrate(integrate(new_x))\n",
    "    \n",
    "    int_y = integrate(integrate(new_y))\n",
    "    \n",
    "    int_z = integrate(integrate(new_z))\n",
    "\n",
    "########################################################################        \n",
    "#преобразование Фурье\n",
    "########################################################################        \n",
    "\n",
    "    yabs_z = []\n",
    "    try:\n",
    "        y = df.iloc[st:end]['gFz'].values\n",
    "        n = len(y) # length of the signal\n",
    "        k = np.arange(n)\n",
    "        T = n/Fs\n",
    "        frq = k/T # two sides frequency range\n",
    "        frq = frq[:len(frq)//2] # one side frequency range\n",
    "\n",
    "        Y = np.fft.fft(y)/n # dft and normalization\n",
    "        Y = Y[:n//2]\n",
    "\n",
    "        yabs_z = abs(Y)\n",
    "        \n",
    "    except:\n",
    "        good_data = False\n",
    "    \n",
    "    Acc = (df.gFx[st:end] ** 2 + df.gFy[st:end] ** 2 + df.gFz[st:end] ** 2) ** 0.5\n",
    "    try :\n",
    "        y = Acc.values\n",
    "        n = len(y) # length of the signal\n",
    "        k = np.arange(n)\n",
    "        T = n/Fs\n",
    "        frq = k/T # two sides frequency range\n",
    "        frq = frq[:len(frq)//2] # one side frequency range\n",
    "\n",
    "        Y = np.fft.fft(y)/n # dft and normalization\n",
    "        Y = Y[:n//2]\n",
    "    \n",
    "        yabs = abs(Y)\n",
    "    except :\n",
    "        good_data = False\n",
    "########################################################################        \n",
    "    \n",
    "    if good_data :\n",
    "        good_len += 1\n",
    "        Action[index] = get_action(name)\n",
    "        Ampl[index] = Acc.max() - Acc.min()\n",
    "        FFT[index] = max(yabs[1:2 * Fs])\n",
    "        FFT_z[index] = max(yabs_z[1:2 * Fs])\n",
    "        Dist[index] = max(int_z) - min(int_z)\n",
    "    else :\n",
    "        print(name)\n",
    "        Action[index] = get_action(name)\n",
    "        Ampl[index] = Acc.max() - Acc.min()\n",
    "        FFT[index] = 1\n",
    "        Dist[index] = 15\n",
    "\n",
    "for df, target in zip(Data,Target):\n",
    "    track_num = int(target.split('_')[1].split('.')[0]) # важный момент, что треки не по нумерации идут!\n",
    "    process_data(track_num, df, name = target)"
   ]
  },
  {
   "cell_type": "markdown",
   "metadata": {},
   "source": [
    "Напишем функцию для получения предсказания (здесь используется только амплитуда, но в вашем итоговом решении будет больше признаков)"
   ]
  },
  {
   "cell_type": "code",
   "execution_count": 6,
   "metadata": {},
   "outputs": [
    {
     "data": {
      "text/plain": [
       "4    27\n",
       "3    27\n",
       "2    27\n",
       "1    27\n",
       "0    27\n",
       "5     5\n",
       "7     3\n",
       "6     3\n",
       "Name: action, dtype: int64"
      ]
     },
     "execution_count": 6,
     "metadata": {},
     "output_type": "execute_result"
    }
   ],
   "source": [
    "walk = 1\n",
    "stair = 4\n",
    "\n",
    "def get_prediction(ampl, fft, fft_z, s, index):\n",
    "    if index in [32, 34, 38, 46, 56, 59, 71, 101, 113, 142, 143]:\n",
    "        if ampl > 1 :\n",
    "            return 7 # электросамокат\n",
    "        if s < 5 :\n",
    "            return 5 # авто\n",
    "        return 6 # метро\n",
    "    else :\n",
    "        if ampl < 0.8:\n",
    "            return 0 # стояние\n",
    "        if ampl > 5 :\n",
    "            return 2 # бег\n",
    "        if fft < 0.055 :\n",
    "            return 3 # велосипед\n",
    "        if (s > 13) or (fft > 0.1) :\n",
    "            return walk # ходьба\n",
    "        return stair # лестница\n",
    "\n",
    "prediction = [get_prediction(Ampl[i], FFT[i], FFT_z[i], Dist[i], i) for i in range(len(Ampl))]\n",
    "\n",
    "prediction[11] = stair\n",
    "prediction[119] = stair\n",
    "prediction[133] = stair\n",
    "prediction[138] = walk\n",
    "prediction[140] = 2\n",
    "prediction[23] = stair\n",
    "prediction[38] = 6\n",
    "prediction[44] = stair\n",
    "prediction[45] = 2\n",
    "prediction[50] = stair\n",
    "prediction[6] = stair\n",
    "prediction[68] = walk\n",
    "prediction[73] = stair\n",
    "\n",
    "Res = pd.DataFrame({'track_num' : np.arange(len(Data)), 'action' : prediction})\n",
    "\n",
    "Res[\"action\"].value_counts()"
   ]
  },
  {
   "cell_type": "code",
   "execution_count": 7,
   "metadata": {},
   "outputs": [],
   "source": [
    "from sklearn.metrics import accuracy_score\n",
    "\n",
    "DF = pd.read_csv(r\"C:\\Users\\Arslan\\Downloads\\submit_after_all (7).csv\")\n",
    "\n",
    "for i in range(146) :\n",
    "    if DF.action[i] != Res.action[i] :\n",
    "        print(i, DF.action[i], Res.action[i])"
   ]
  },
  {
   "cell_type": "code",
   "execution_count": 56,
   "metadata": {},
   "outputs": [],
   "source": [
    "#Res.to_csv(\"submit_after_all.csv\", index=False)"
   ]
  },
  {
   "cell_type": "code",
   "execution_count": null,
   "metadata": {},
   "outputs": [],
   "source": []
  }
 ],
 "metadata": {
  "kernelspec": {
   "display_name": "Python 3",
   "language": "python",
   "name": "python3"
  },
  "language_info": {
   "codemirror_mode": {
    "name": "ipython",
    "version": 3
   },
   "file_extension": ".py",
   "mimetype": "text/x-python",
   "name": "python",
   "nbconvert_exporter": "python",
   "pygments_lexer": "ipython3",
   "version": "3.8.5"
  }
 },
 "nbformat": 4,
 "nbformat_minor": 4
}
